{
 "cells": [
  {
   "cell_type": "code",
   "execution_count": 18,
   "metadata": {},
   "outputs": [],
   "source": [
    "import numpy as np\n",
    "import matplotlib.pylab as plt"
   ]
  },
  {
   "cell_type": "code",
   "execution_count": 47,
   "metadata": {},
   "outputs": [
    {
     "data": {
      "image/png": "[encoded data removed]",
      "text/plain": [
       "<Figure size 432x288 with 1 Axes>"
      ]
     },
     "metadata": {
      "needs_background": "light"
     },
     "output_type": "display_data"
    }
   ],
   "source": [
    "def loadDataSet(fileName):\n",
    "    dataMat = []\n",
    "    labelMat = []\n",
    "    fr = open(fileName)\n",
    "    for line in fr.readlines():\n",
    "        lineArr = line.strip().split()\n",
    "        dataMat.append([1.0, float(lineArr[0]), float(lineArr[1])])\n",
    "        labelMat.append(float(lineArr[2]))\n",
    "    return dataMat, labelMat\n",
    "\n",
    "def sigmoid(x):\n",
    "    return 2 * 1.0/(1 + np.exp(-2 * x)) - 1\n",
    "\n",
    "def gradAscent(dataMatIn, classLabels):\n",
    "    dataMatrix = np.mat(dataMatIn)\n",
    "    labelMatrix = np.mat(classLabels).transpose()\n",
    "    m, n = dataMatrix.shape\n",
    "    alpha = 0.001\n",
    "    maxCycles = 5\n",
    "    \n",
    "    weight = np.ones((n, 1))\n",
    "    for k in range(maxCycles):\n",
    "        h = sigmoid(dataMatrix * weight)\n",
    "        error = labelMatrix - h\n",
    "        weight = weight + alpha * dataMatrix.transpose() * error\n",
    "    return np.array(weight)\n",
    "def plotBestFit(dataArr, labelMat, weight):\n",
    "    n = np.shape(dataArr)[0]\n",
    "    xcord1 = []; ycord1 = []\n",
    "    xcord2 = []; ycord2 = []\n",
    "    for i in range(n):\n",
    "        if int(labelMat[i] == 1):\n",
    "            xcord1.append(dataArr[i, 1])\n",
    "            ycord1.append(dataArr[i, 2])\n",
    "        else:\n",
    "            xcord2.append(dataArr[i, 1])\n",
    "            ycord2.append(dataArr[i, 2])\n",
    "    fig = plt.figure()\n",
    "    ax = fig.add_subplot(111)\n",
    "    ax.scatter(xcord1, ycord1, s = 30, c = 'red', marker = 's')\n",
    "    ax.scatter(xcord2, ycord2, s = 30, c = 'green')\n",
    "    x = np.arange(-3.0, 3.0, 0.1)\n",
    "    y = (-weight[0]-weight[1]*x)/weight[2]\n",
    "    ax.plot(x, y)\n",
    "    plt.xlabel('X'); plt.ylabel('Y')\n",
    "    plt.show()\n",
    "def testLR():\n",
    "    # 1.收集并准备数据\n",
    "    dataMat, labelMat = loadDataSet(\"data/Logistic/TestSet.txt\")\n",
    "\n",
    "    # print dataMat, '---\\n', labelMat\n",
    "    # 2.训练模型，  f(x)=a1*x1+b2*x2+..+nn*xn中 (a1,b2, .., nn).T的矩阵值\n",
    "    # 因为数组没有是复制n份， array的乘法就是乘法\n",
    "    dataArr = np.array(dataMat)\n",
    "    # print dataArr\n",
    "    weights = gradAscent(dataArr, labelMat)\n",
    "    # weights = stocGradAscent0(dataArr, labelMat)\n",
    "    # weights = stocGradAscent1(dataArr, labelMat)\n",
    "    # print '*'*30, weights\n",
    "\n",
    "    # 数据可视化\n",
    "    plotBestFit(dataArr, labelMat, weights)\n",
    "    \n",
    "    \n",
    "if __name__ == \"__main__\":\n",
    "    testLR()"
   ]
  }
 ],
 "metadata": {
  "kernelspec": {
   "display_name": "Python 3",
   "language": "python",
   "name": "python3"
  },
  "language_info": {
   "codemirror_mode": {
    "name": "ipython",
    "version": 3
   },
   "file_extension": ".py",
   "mimetype": "text/x-python",
   "name": "python",
   "nbconvert_exporter": "python",
   "pygments_lexer": "ipython3",
   "version": "3.7.0"
  }
 },
 "nbformat": 4,
 "nbformat_minor": 2
}
